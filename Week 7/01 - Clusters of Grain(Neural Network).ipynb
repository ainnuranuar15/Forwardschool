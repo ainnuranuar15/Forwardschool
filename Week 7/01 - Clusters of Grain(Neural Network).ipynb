{
 "cells": [
  {
   "cell_type": "markdown",
   "metadata": {},
   "source": [
    "# How many clusters of grain?\n",
    "\n",
    "This exercise is taken and modified from https://github.com/benjaminwilson/python-clustering-exercises\n",
    "\n",
    "This is a class to choose a good number of clusters for a dataset using the k-means inertia graph.  You are given a dataset of the measurements of samples of grain.  What's a good number of clusters in this case?\n",
    "\n",
    "This dataset was obtained from the [UCI](https://archive.ics.uci.edu/ml/datasets/seeds).\n"
   ]
  },
  {
   "cell_type": "markdown",
   "metadata": {},
   "source": [
    "\n"
   ]
  },
  {
   "cell_type": "markdown",
   "metadata": {},
   "source": [
    "**Step 1:** Load the dataset _(written for you)_."
   ]
  },
  {
   "cell_type": "code",
   "execution_count": 13,
   "metadata": {},
   "outputs": [],
   "source": [
    "import pandas as pd\n",
    "import numpy as np\n",
    "from keras.models import Sequential\n",
    "from keras.layers import Dense\n",
    "from keras.wrappers.scikit_learn import KerasClassifier\n",
    "from keras.utils import np_utils\n",
    "from sklearn.model_selection import cross_val_score\n",
    "from sklearn.model_selection import KFold\n",
    "from sklearn.preprocessing import LabelEncoder\n",
    "from sklearn.pipeline import Pipeline"
   ]
  },
  {
   "cell_type": "code",
   "execution_count": 3,
   "metadata": {
    "exercise": false
   },
   "outputs": [],
   "source": [
    "seeds_df = pd.read_csv('Data/seeds.csv')\n",
    "# forget about the grain variety for the moment - we'll use this later"
   ]
  },
  {
   "cell_type": "markdown",
   "metadata": {},
   "source": [
    "**Step 2:** Display the DataFrame to inspect the data.  Notice that there are 7 columns - so each grain sample (row) is a point in 7D space!  Scatter plots can't help us here."
   ]
  },
  {
   "cell_type": "code",
   "execution_count": 4,
   "metadata": {},
   "outputs": [
    {
     "data": {
      "text/html": [
       "<div>\n",
       "<style scoped>\n",
       "    .dataframe tbody tr th:only-of-type {\n",
       "        vertical-align: middle;\n",
       "    }\n",
       "\n",
       "    .dataframe tbody tr th {\n",
       "        vertical-align: top;\n",
       "    }\n",
       "\n",
       "    .dataframe thead th {\n",
       "        text-align: right;\n",
       "    }\n",
       "</style>\n",
       "<table border=\"1\" class=\"dataframe\">\n",
       "  <thead>\n",
       "    <tr style=\"text-align: right;\">\n",
       "      <th></th>\n",
       "      <th>area</th>\n",
       "      <th>perimeter</th>\n",
       "      <th>compactness</th>\n",
       "      <th>length</th>\n",
       "      <th>width</th>\n",
       "      <th>asymmetry_coefficient</th>\n",
       "      <th>groove_length</th>\n",
       "      <th>grain_variety</th>\n",
       "    </tr>\n",
       "  </thead>\n",
       "  <tbody>\n",
       "    <tr>\n",
       "      <th>0</th>\n",
       "      <td>15.26</td>\n",
       "      <td>14.84</td>\n",
       "      <td>0.8710</td>\n",
       "      <td>5.763</td>\n",
       "      <td>3.312</td>\n",
       "      <td>2.221</td>\n",
       "      <td>5.220</td>\n",
       "      <td>Kama wheat</td>\n",
       "    </tr>\n",
       "    <tr>\n",
       "      <th>1</th>\n",
       "      <td>14.88</td>\n",
       "      <td>14.57</td>\n",
       "      <td>0.8811</td>\n",
       "      <td>5.554</td>\n",
       "      <td>3.333</td>\n",
       "      <td>1.018</td>\n",
       "      <td>4.956</td>\n",
       "      <td>Kama wheat</td>\n",
       "    </tr>\n",
       "    <tr>\n",
       "      <th>2</th>\n",
       "      <td>14.29</td>\n",
       "      <td>14.09</td>\n",
       "      <td>0.9050</td>\n",
       "      <td>5.291</td>\n",
       "      <td>3.337</td>\n",
       "      <td>2.699</td>\n",
       "      <td>4.825</td>\n",
       "      <td>Kama wheat</td>\n",
       "    </tr>\n",
       "    <tr>\n",
       "      <th>3</th>\n",
       "      <td>13.84</td>\n",
       "      <td>13.94</td>\n",
       "      <td>0.8955</td>\n",
       "      <td>5.324</td>\n",
       "      <td>3.379</td>\n",
       "      <td>2.259</td>\n",
       "      <td>4.805</td>\n",
       "      <td>Kama wheat</td>\n",
       "    </tr>\n",
       "    <tr>\n",
       "      <th>4</th>\n",
       "      <td>16.14</td>\n",
       "      <td>14.99</td>\n",
       "      <td>0.9034</td>\n",
       "      <td>5.658</td>\n",
       "      <td>3.562</td>\n",
       "      <td>1.355</td>\n",
       "      <td>5.175</td>\n",
       "      <td>Kama wheat</td>\n",
       "    </tr>\n",
       "    <tr>\n",
       "      <th>5</th>\n",
       "      <td>14.38</td>\n",
       "      <td>14.21</td>\n",
       "      <td>0.8951</td>\n",
       "      <td>5.386</td>\n",
       "      <td>3.312</td>\n",
       "      <td>2.462</td>\n",
       "      <td>4.956</td>\n",
       "      <td>Kama wheat</td>\n",
       "    </tr>\n",
       "    <tr>\n",
       "      <th>6</th>\n",
       "      <td>14.69</td>\n",
       "      <td>14.49</td>\n",
       "      <td>0.8799</td>\n",
       "      <td>5.563</td>\n",
       "      <td>3.259</td>\n",
       "      <td>3.586</td>\n",
       "      <td>5.219</td>\n",
       "      <td>Kama wheat</td>\n",
       "    </tr>\n",
       "    <tr>\n",
       "      <th>7</th>\n",
       "      <td>14.11</td>\n",
       "      <td>14.10</td>\n",
       "      <td>0.8911</td>\n",
       "      <td>5.420</td>\n",
       "      <td>3.302</td>\n",
       "      <td>2.700</td>\n",
       "      <td>5.000</td>\n",
       "      <td>Kama wheat</td>\n",
       "    </tr>\n",
       "    <tr>\n",
       "      <th>8</th>\n",
       "      <td>16.63</td>\n",
       "      <td>15.46</td>\n",
       "      <td>0.8747</td>\n",
       "      <td>6.053</td>\n",
       "      <td>3.465</td>\n",
       "      <td>2.040</td>\n",
       "      <td>5.877</td>\n",
       "      <td>Kama wheat</td>\n",
       "    </tr>\n",
       "    <tr>\n",
       "      <th>9</th>\n",
       "      <td>16.44</td>\n",
       "      <td>15.25</td>\n",
       "      <td>0.8880</td>\n",
       "      <td>5.884</td>\n",
       "      <td>3.505</td>\n",
       "      <td>1.969</td>\n",
       "      <td>5.533</td>\n",
       "      <td>Kama wheat</td>\n",
       "    </tr>\n",
       "  </tbody>\n",
       "</table>\n",
       "</div>"
      ],
      "text/plain": [
       "    area  perimeter  compactness  length  width  asymmetry_coefficient  \\\n",
       "0  15.26      14.84       0.8710   5.763  3.312                  2.221   \n",
       "1  14.88      14.57       0.8811   5.554  3.333                  1.018   \n",
       "2  14.29      14.09       0.9050   5.291  3.337                  2.699   \n",
       "3  13.84      13.94       0.8955   5.324  3.379                  2.259   \n",
       "4  16.14      14.99       0.9034   5.658  3.562                  1.355   \n",
       "5  14.38      14.21       0.8951   5.386  3.312                  2.462   \n",
       "6  14.69      14.49       0.8799   5.563  3.259                  3.586   \n",
       "7  14.11      14.10       0.8911   5.420  3.302                  2.700   \n",
       "8  16.63      15.46       0.8747   6.053  3.465                  2.040   \n",
       "9  16.44      15.25       0.8880   5.884  3.505                  1.969   \n",
       "\n",
       "   groove_length grain_variety  \n",
       "0          5.220    Kama wheat  \n",
       "1          4.956    Kama wheat  \n",
       "2          4.825    Kama wheat  \n",
       "3          4.805    Kama wheat  \n",
       "4          5.175    Kama wheat  \n",
       "5          4.956    Kama wheat  \n",
       "6          5.219    Kama wheat  \n",
       "7          5.000    Kama wheat  \n",
       "8          5.877    Kama wheat  \n",
       "9          5.533    Kama wheat  "
      ]
     },
     "execution_count": 4,
     "metadata": {},
     "output_type": "execute_result"
    }
   ],
   "source": [
    "seeds_df.head(10)"
   ]
  },
  {
   "cell_type": "markdown",
   "metadata": {},
   "source": [
    "**Step 3:** Extract the measurements from the DataFrame using its `.values` attribute:"
   ]
  },
  {
   "cell_type": "code",
   "execution_count": 5,
   "metadata": {},
   "outputs": [],
   "source": [
    "dataset = seeds_df.values"
   ]
  },
  {
   "cell_type": "code",
   "execution_count": 6,
   "metadata": {},
   "outputs": [
    {
     "data": {
      "text/plain": [
       "array([[15.26, 14.84, 0.871, ..., 2.221, 5.22, 'Kama wheat'],\n",
       "       [14.88, 14.57, 0.8811, ..., 1.018, 4.956, 'Kama wheat'],\n",
       "       [14.29, 14.09, 0.905, ..., 2.699, 4.825, 'Kama wheat'],\n",
       "       ...,\n",
       "       [13.2, 13.66, 0.8883, ..., 8.315, 5.056, 'Canadian wheat'],\n",
       "       [11.84, 13.21, 0.8521, ..., 3.5980000000000003, 5.044,\n",
       "        'Canadian wheat'],\n",
       "       [12.3, 13.34, 0.8684, ..., 5.6370000000000005, 5.063,\n",
       "        'Canadian wheat']], dtype=object)"
      ]
     },
     "execution_count": 6,
     "metadata": {},
     "output_type": "execute_result"
    }
   ],
   "source": [
    "dataset"
   ]
  },
  {
   "cell_type": "code",
   "execution_count": 11,
   "metadata": {},
   "outputs": [
    {
     "data": {
      "text/plain": [
       "(210, 8)"
      ]
     },
     "execution_count": 11,
     "metadata": {},
     "output_type": "execute_result"
    }
   ],
   "source": [
    "dataset.shape"
   ]
  },
  {
   "cell_type": "code",
   "execution_count": 7,
   "metadata": {},
   "outputs": [],
   "source": [
    "#Assign all columns except the last column (target column) to X variable\n",
    "X = dataset[:,0:7].astype(float)"
   ]
  },
  {
   "cell_type": "code",
   "execution_count": 8,
   "metadata": {},
   "outputs": [],
   "source": [
    "#Assign the last column only to Y variable\n",
    "Y = dataset[:,7]"
   ]
  },
  {
   "cell_type": "code",
   "execution_count": 10,
   "metadata": {},
   "outputs": [
    {
     "name": "stdout",
     "output_type": "stream",
     "text": [
      "[[15.26   14.84    0.871  ...  3.312   2.221   5.22  ]\n",
      " [14.88   14.57    0.8811 ...  3.333   1.018   4.956 ]\n",
      " [14.29   14.09    0.905  ...  3.337   2.699   4.825 ]\n",
      " ...\n",
      " [13.2    13.66    0.8883 ...  3.232   8.315   5.056 ]\n",
      " [11.84   13.21    0.8521 ...  2.836   3.598   5.044 ]\n",
      " [12.3    13.34    0.8684 ...  2.974   5.637   5.063 ]]\n",
      "['Kama wheat' 'Kama wheat' 'Kama wheat' 'Kama wheat' 'Kama wheat'\n",
      " 'Kama wheat' 'Kama wheat' 'Kama wheat' 'Kama wheat' 'Kama wheat'\n",
      " 'Kama wheat' 'Kama wheat' 'Kama wheat' 'Kama wheat' 'Kama wheat'\n",
      " 'Kama wheat' 'Kama wheat' 'Kama wheat' 'Kama wheat' 'Kama wheat'\n",
      " 'Kama wheat' 'Kama wheat' 'Kama wheat' 'Kama wheat' 'Kama wheat'\n",
      " 'Kama wheat' 'Kama wheat' 'Kama wheat' 'Kama wheat' 'Kama wheat'\n",
      " 'Kama wheat' 'Kama wheat' 'Kama wheat' 'Kama wheat' 'Kama wheat'\n",
      " 'Kama wheat' 'Kama wheat' 'Kama wheat' 'Kama wheat' 'Kama wheat'\n",
      " 'Kama wheat' 'Kama wheat' 'Kama wheat' 'Kama wheat' 'Kama wheat'\n",
      " 'Kama wheat' 'Kama wheat' 'Kama wheat' 'Kama wheat' 'Kama wheat'\n",
      " 'Kama wheat' 'Kama wheat' 'Kama wheat' 'Kama wheat' 'Kama wheat'\n",
      " 'Kama wheat' 'Kama wheat' 'Kama wheat' 'Kama wheat' 'Kama wheat'\n",
      " 'Kama wheat' 'Kama wheat' 'Kama wheat' 'Kama wheat' 'Kama wheat'\n",
      " 'Kama wheat' 'Kama wheat' 'Kama wheat' 'Kama wheat' 'Kama wheat'\n",
      " 'Rosa wheat' 'Rosa wheat' 'Rosa wheat' 'Rosa wheat' 'Rosa wheat'\n",
      " 'Rosa wheat' 'Rosa wheat' 'Rosa wheat' 'Rosa wheat' 'Rosa wheat'\n",
      " 'Rosa wheat' 'Rosa wheat' 'Rosa wheat' 'Rosa wheat' 'Rosa wheat'\n",
      " 'Rosa wheat' 'Rosa wheat' 'Rosa wheat' 'Rosa wheat' 'Rosa wheat'\n",
      " 'Rosa wheat' 'Rosa wheat' 'Rosa wheat' 'Rosa wheat' 'Rosa wheat'\n",
      " 'Rosa wheat' 'Rosa wheat' 'Rosa wheat' 'Rosa wheat' 'Rosa wheat'\n",
      " 'Rosa wheat' 'Rosa wheat' 'Rosa wheat' 'Rosa wheat' 'Rosa wheat'\n",
      " 'Rosa wheat' 'Rosa wheat' 'Rosa wheat' 'Rosa wheat' 'Rosa wheat'\n",
      " 'Rosa wheat' 'Rosa wheat' 'Rosa wheat' 'Rosa wheat' 'Rosa wheat'\n",
      " 'Rosa wheat' 'Rosa wheat' 'Rosa wheat' 'Rosa wheat' 'Rosa wheat'\n",
      " 'Rosa wheat' 'Rosa wheat' 'Rosa wheat' 'Rosa wheat' 'Rosa wheat'\n",
      " 'Rosa wheat' 'Rosa wheat' 'Rosa wheat' 'Rosa wheat' 'Rosa wheat'\n",
      " 'Rosa wheat' 'Rosa wheat' 'Rosa wheat' 'Rosa wheat' 'Rosa wheat'\n",
      " 'Rosa wheat' 'Rosa wheat' 'Rosa wheat' 'Rosa wheat' 'Rosa wheat'\n",
      " 'Canadian wheat' 'Canadian wheat' 'Canadian wheat' 'Canadian wheat'\n",
      " 'Canadian wheat' 'Canadian wheat' 'Canadian wheat' 'Canadian wheat'\n",
      " 'Canadian wheat' 'Canadian wheat' 'Canadian wheat' 'Canadian wheat'\n",
      " 'Canadian wheat' 'Canadian wheat' 'Canadian wheat' 'Canadian wheat'\n",
      " 'Canadian wheat' 'Canadian wheat' 'Canadian wheat' 'Canadian wheat'\n",
      " 'Canadian wheat' 'Canadian wheat' 'Canadian wheat' 'Canadian wheat'\n",
      " 'Canadian wheat' 'Canadian wheat' 'Canadian wheat' 'Canadian wheat'\n",
      " 'Canadian wheat' 'Canadian wheat' 'Canadian wheat' 'Canadian wheat'\n",
      " 'Canadian wheat' 'Canadian wheat' 'Canadian wheat' 'Canadian wheat'\n",
      " 'Canadian wheat' 'Canadian wheat' 'Canadian wheat' 'Canadian wheat'\n",
      " 'Canadian wheat' 'Canadian wheat' 'Canadian wheat' 'Canadian wheat'\n",
      " 'Canadian wheat' 'Canadian wheat' 'Canadian wheat' 'Canadian wheat'\n",
      " 'Canadian wheat' 'Canadian wheat' 'Canadian wheat' 'Canadian wheat'\n",
      " 'Canadian wheat' 'Canadian wheat' 'Canadian wheat' 'Canadian wheat'\n",
      " 'Canadian wheat' 'Canadian wheat' 'Canadian wheat' 'Canadian wheat'\n",
      " 'Canadian wheat' 'Canadian wheat' 'Canadian wheat' 'Canadian wheat'\n",
      " 'Canadian wheat' 'Canadian wheat' 'Canadian wheat' 'Canadian wheat'\n",
      " 'Canadian wheat' 'Canadian wheat']\n"
     ]
    }
   ],
   "source": [
    "print(X)\n",
    "print(Y)"
   ]
  },
  {
   "cell_type": "markdown",
   "metadata": {},
   "source": [
    "### Encode the target variable"
   ]
  },
  {
   "cell_type": "code",
   "execution_count": 14,
   "metadata": {},
   "outputs": [],
   "source": [
    "# encode class values as integers\n",
    "encoder = LabelEncoder()\n",
    "encoder.fit(Y)\n",
    "encoded_Y = encoder.transform(Y)\n",
    "#encode according to alphabet"
   ]
  },
  {
   "cell_type": "code",
   "execution_count": 15,
   "metadata": {},
   "outputs": [],
   "source": [
    "# convert integers to dummy variables (i.e. one hot encoded)\n",
    "dummy_y = np_utils.to_categorical(encoded_Y)"
   ]
  },
  {
   "cell_type": "code",
   "execution_count": null,
   "metadata": {},
   "outputs": [],
   "source": [
    "#Don't have to use correlation, heat map for classification method\n",
    "#for random seed proble, reproduce the seed and make it fixed\n",
    "#normalizing value gives more impact -> result to high accuracy\n",
    "#epochs run many times in our training"
   ]
  },
  {
   "cell_type": "markdown",
   "metadata": {},
   "source": [
    "### Define the Model"
   ]
  },
  {
   "cell_type": "code",
   "execution_count": 17,
   "metadata": {},
   "outputs": [],
   "source": [
    "# define baseline model\n",
    "def baseline_model():\n",
    "\t# create model\n",
    "\tmodel = Sequential()\n",
    "\tmodel.add(Dense(8, input_dim=7, activation='relu')) #use relu because we have hidden layers\n",
    "\tmodel.add(Dense(3, activation='softmax'))\n",
    "\t# Compile model\n",
    "\tmodel.compile(loss='categorical_crossentropy', optimizer='adam', metrics=['accuracy'])\n",
    "\treturn model"
   ]
  },
  {
   "cell_type": "markdown",
   "metadata": {},
   "source": [
    "### Evaluate the model using K-Fold"
   ]
  },
  {
   "cell_type": "code",
   "execution_count": 18,
   "metadata": {},
   "outputs": [
    {
     "name": "stderr",
     "output_type": "stream",
     "text": [
      "C:\\Users\\ainnu\\AppData\\Local\\Temp/ipykernel_8508/216824370.py:1: DeprecationWarning: KerasClassifier is deprecated, use Sci-Keras (https://github.com/adriangb/scikeras) instead. See https://www.adriangb.com/scikeras/stable/migration.html for help migrating.\n",
      "  estimator = KerasClassifier(build_fn=baseline_model, epochs=200, batch_size=5, verbose=0)\n"
     ]
    }
   ],
   "source": [
    "estimator = KerasClassifier(build_fn=baseline_model, epochs=200, batch_size=5, verbose=0)"
   ]
  },
  {
   "cell_type": "code",
   "execution_count": 19,
   "metadata": {},
   "outputs": [],
   "source": [
    "kfold = KFold(n_splits=10, shuffle=True)"
   ]
  },
  {
   "cell_type": "code",
   "execution_count": 20,
   "metadata": {},
   "outputs": [],
   "source": [
    "results = cross_val_score(estimator, X, dummy_y, cv=kfold)"
   ]
  },
  {
   "cell_type": "code",
   "execution_count": 21,
   "metadata": {},
   "outputs": [
    {
     "name": "stdout",
     "output_type": "stream",
     "text": [
      "Baseline: 90.95% (3.33%)\n"
     ]
    }
   ],
   "source": [
    "print(\"Baseline: %.2f%% (%.2f%%)\" % (results.mean()*100, results.std()*100))"
   ]
  },
  {
   "cell_type": "code",
   "execution_count": 24,
   "metadata": {},
   "outputs": [],
   "source": [
    "# define baseline model the new one tu increase the accuracy\n",
    "def baseline_model():\n",
    "\t# create model\n",
    "\tmodel = Sequential()\n",
    "\tmodel.add(Dense(16, input_dim=7, activation='relu')) #double the hidden nodes\n",
    "\tmodel.add(Dense(3, activation='softmax'))\n",
    "\t# Compile model\n",
    "\tmodel.compile(loss='categorical_crossentropy', optimizer='adam', metrics=['accuracy'])\n",
    "\treturn model"
   ]
  },
  {
   "cell_type": "code",
   "execution_count": 25,
   "metadata": {},
   "outputs": [
    {
     "name": "stderr",
     "output_type": "stream",
     "text": [
      "C:\\Users\\ainnu\\AppData\\Local\\Temp/ipykernel_8508/1842752508.py:1: DeprecationWarning: KerasClassifier is deprecated, use Sci-Keras (https://github.com/adriangb/scikeras) instead. See https://www.adriangb.com/scikeras/stable/migration.html for help migrating.\n",
      "  estimator = KerasClassifier(build_fn=baseline_model, epochs=200, batch_size=5, verbose=0)\n"
     ]
    },
    {
     "name": "stdout",
     "output_type": "stream",
     "text": [
      "Baseline: 91.43% (4.67%)\n"
     ]
    }
   ],
   "source": [
    "estimator = KerasClassifier(build_fn=baseline_model, epochs=200, batch_size=5, verbose=0)\n",
    "kfold = KFold(n_splits=10, shuffle=True)\n",
    "results = cross_val_score(estimator, X, dummy_y, cv=kfold)\n",
    "print(\"Baseline: %.2f%% (%.2f%%)\" % (results.mean()*100, results.std()*100))"
   ]
  },
  {
   "cell_type": "code",
   "execution_count": null,
   "metadata": {},
   "outputs": [],
   "source": []
  }
 ],
 "metadata": {
  "kernelspec": {
   "display_name": "Python 3 (ipykernel)",
   "language": "python",
   "name": "python3"
  },
  "language_info": {
   "codemirror_mode": {
    "name": "ipython",
    "version": 3
   },
   "file_extension": ".py",
   "mimetype": "text/x-python",
   "name": "python",
   "nbconvert_exporter": "python",
   "pygments_lexer": "ipython3",
   "version": "3.9.7"
  }
 },
 "nbformat": 4,
 "nbformat_minor": 2
}
